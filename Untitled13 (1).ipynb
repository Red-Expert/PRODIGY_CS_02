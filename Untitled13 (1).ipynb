{
 "cells": [
  {
   "cell_type": "code",
   "execution_count": 2,
   "id": "65c4ec6b-b18c-4b2e-9202-91897dfa224b",
   "metadata": {},
   "outputs": [
    {
     "name": "stdin",
     "output_type": "stream",
     "text": [
      "Do you want to encrypt or decrypt an image? (e/d):  e\n",
      "Enter the path to the image:  C:\\Users\\User\\Desktop\\Bit level permutation research material\\other part\\Elgamal encryption\\microorganism.jpg\n",
      "Enter the path to save the output image:  C:\\Users\\User\\Desktop\\Bit level permutation research material\\other part\\Elgamal encryption\\encrypted_image.jpg\n",
      "Enter the encryption key (integer):  5\n"
     ]
    },
    {
     "name": "stdout",
     "output_type": "stream",
     "text": [
      "Image encrypted and saved as C:\\Users\\User\\Desktop\\Bit level permutation research material\\other part\\Elgamal encryption\\encrypted_image.jpg\n"
     ]
    }
   ],
   "source": [
    "from PIL import Image\n",
    "import random\n",
    "\n",
    "def encrypt_image(image_path, output_path, key):\n",
    "    \"\"\"Encrypt an image by performing pixel manipulation.\"\"\"\n",
    "    # Open the image\n",
    "    image = Image.open(image_path)\n",
    "    pixels = list(image.getdata())\n",
    "    \n",
    "    # Initialize random number generator with the key\n",
    "    random.seed(key)\n",
    "    \n",
    "    # Encrypt the pixels by swapping\n",
    "    for i in range(len(pixels)):\n",
    "        j = random.randint(0, len(pixels) - 1)\n",
    "        # Swap pixel values\n",
    "        pixels[i], pixels[j] = pixels[j], pixels[i]\n",
    "    \n",
    "    # Create a new encrypted image\n",
    "    encrypted_image = Image.new(image.mode, image.size)\n",
    "    encrypted_image.putdata(pixels)\n",
    "    encrypted_image.save(output_path)\n",
    "    print(f\"Image encrypted and saved as {output_path}\")\n",
    "\n",
    "def decrypt_image(image_path, output_path, key):\n",
    "    \"\"\"Decrypt an image by reversing the pixel manipulation.\"\"\"\n",
    "    # Open the image\n",
    "    image = Image.open(image_path)\n",
    "    pixels = list(image.getdata())\n",
    "    \n",
    "    # Initialize random number generator with the key\n",
    "    random.seed(key)\n",
    "    \n",
    "    # Store the swap operations in reverse order\n",
    "    swaps = [(i, random.randint(0, len(pixels) - 1)) for i in range(len(pixels))]\n",
    "    swaps.reverse()\n",
    "    \n",
    "    # Decrypt the pixels by reversing the swaps\n",
    "    for i, j in swaps:\n",
    "        # Swap pixel values back to their original positions\n",
    "        pixels[i], pixels[j] = pixels[j], pixels[i]\n",
    "    \n",
    "    # Create a new decrypted image\n",
    "    decrypted_image = Image.new(image.mode, image.size)\n",
    "    decrypted_image.putdata(pixels)\n",
    "    decrypted_image.save(output_path)\n",
    "    print(f\"Image decrypted and saved as {output_path}\")\n",
    "\n",
    "def main():\n",
    "    \"\"\"Main function to run the image encryption tool.\"\"\"\n",
    "    choice = input(\"Do you want to encrypt or decrypt an image? (e/d): \").lower()\n",
    "    image_path = input(\"Enter the path to the image: \")\n",
    "    output_path = input(\"Enter the path to save the output image: \")\n",
    "    key = int(input(\"Enter the encryption key (integer): \"))\n",
    "\n",
    "    if choice == 'e':\n",
    "        encrypt_image(image_path, output_path, key)\n",
    "    elif choice == 'd':\n",
    "        decrypt_image(image_path, output_path, key)\n",
    "    else:\n",
    "        print(\"Invalid choice. Please enter 'e' to encrypt or 'd' to decrypt.\")\n",
    "\n",
    "if __name__ == \"__main__\":\n",
    "    main()\n"
   ]
  }
 ],
 "metadata": {
  "kernelspec": {
   "display_name": "Python 3 (ipykernel)",
   "language": "python",
   "name": "python3"
  },
  "language_info": {
   "codemirror_mode": {
    "name": "ipython",
    "version": 3
   },
   "file_extension": ".py",
   "mimetype": "text/x-python",
   "name": "python",
   "nbconvert_exporter": "python",
   "pygments_lexer": "ipython3",
   "version": "3.11.7"
  }
 },
 "nbformat": 4,
 "nbformat_minor": 5
}
